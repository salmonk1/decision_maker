{
 "cells": [
  {
   "cell_type": "markdown",
   "id": "63236261",
   "metadata": {
    "slideshow": {
     "slide_type": "skip"
    }
   },
   "source": [
    "**Without code**\n",
    "\n",
    "```jupyter nbconvert decision_engine_presentation.ipynb --to slides --no-input --post serve```\n",
    "\n",
    "**With code**\n",
    "\n",
    "```jupyter nbconvert decision_engine_presentation.ipynb --to slides --post serve```\n",
    "\n",
    "**Long slides with code**\n",
    "\n",
    "```jupyter nbconvert decision_engine_presentation.ipynb --to slides --SlidesExporter.reveal_scroll=True --post serve```\n"
   ]
  },
  {
   "cell_type": "code",
   "execution_count": 1,
   "id": "3f8ff0a9",
   "metadata": {
    "slideshow": {
     "slide_type": "skip"
    }
   },
   "outputs": [],
   "source": [
    "from decision_engine import MinimalSupplierSelectionModel, SupplierSelectionModel\n",
    "import random"
   ]
  },
  {
   "cell_type": "code",
   "execution_count": 2,
   "id": "6e5146a5",
   "metadata": {
    "slideshow": {
     "slide_type": "skip"
    }
   },
   "outputs": [],
   "source": [
    "def generate_supplier_selector_variables(min_price=100, max_price=500,\n",
    "                                         min_demand=50, max_demand=300,\n",
    "                                         n_suppliers=15, n_parts=50, \n",
    "                                         n_years=4, print_data=True):\n",
    "\n",
    "    price = []\n",
    "    for supplier in range(n_suppliers):\n",
    "        s = []\n",
    "        for _ in range(n_parts):\n",
    "            y = []\n",
    "            for _ in range(n_years):\n",
    "                y.append(random.randint(0, 500))\n",
    "            s.append(y)\n",
    "        price.append(s)\n",
    "\n",
    "    demand = []\n",
    "    for _ in range(n_parts):\n",
    "        y = []\n",
    "        for _ in range(n_years):\n",
    "            y.append(random.randint(0, 300))\n",
    "        demand.append(y)\n",
    "\n",
    "    capacity = []\n",
    "    for _ in range(n_suppliers):\n",
    "        y = []\n",
    "        for _ in range(n_years):\n",
    "            y.append(random.randint(n_parts-2, n_parts))\n",
    "        capacity.append(y)\n",
    "\n",
    "    share = []\n",
    "    for _ in range(n_suppliers):\n",
    "        s = []\n",
    "        for _ in range(n_parts):\n",
    "            s.append(random.randrange(75, 101, 5))\n",
    "        share.append(s)\n",
    "        \n",
    "    supplier_transfer_limit = []\n",
    "    for _ in range(n_suppliers):\n",
    "        supplier_transfer_limit.append(random.randint(n_parts-2, n_parts))\n",
    "\n",
    "    if print_data:\n",
    "        print(f'number of suppliers: {n_suppliers}')\n",
    "        print(f'number of parts: {n_parts}')\n",
    "        print(f'price: {price}')\n",
    "        print(f'demand: {demand}')\n",
    "        print(f'capacity: {capacity}')\n",
    "        print(f'share: {share}')\n",
    "        print(f'supplier transfer limit: {supplier_transfer_limit}')\n",
    "\n",
    "    return price, demand, capacity, share, supplier_transfer_limit"
   ]
  },
  {
   "cell_type": "markdown",
   "id": "024ea10a",
   "metadata": {
    "slideshow": {
     "slide_type": "slide"
    }
   },
   "source": [
    "# Decision Engine\n",
    "## Introduction"
   ]
  },
  {
   "cell_type": "markdown",
   "id": "7998d58c",
   "metadata": {
    "slideshow": {
     "slide_type": "slide"
    }
   },
   "source": [
    "# Typical problem statement\n",
    "\n",
    "- Rolls-Royce need to procure approximately 1000 unique forged metal parts for the Trent XWB engine.\n",
    "- There are 30 suppliers globally that have the required skills and equipment to manufacture the required parts.\n",
    "- Rolls-Royce provide all 30 suppliers with the information required to price and submit a bid to manufacture any of the parts.\n",
    "- Rolls-Royce receive the bids and must then decide who is awarded the manufacturing contract for every part"
   ]
  },
  {
   "cell_type": "markdown",
   "id": "22aad254",
   "metadata": {
    "slideshow": {
     "slide_type": "subslide"
    }
   },
   "source": [
    "## Constraints\n",
    "\n",
    "- At first this might appear to be trivial (select the cheapest bid for every part), however there are a number of constraints that must be considered\n",
    "    - There is a limit on the number of parts a supplier can manufacture\n",
    "    - Manufacturers based in certain countries (e.g. China) are limited to manufacturing a percentage of the total required volume of a part"
   ]
  },
  {
   "cell_type": "markdown",
   "id": "7ff7dddd",
   "metadata": {
    "slideshow": {
     "slide_type": "subslide"
    }
   },
   "source": [
    "## Combinatorial optimisation\n",
    "\n",
    "- The problem is no longer trivial and is an example of a combinatorial optimisation problem \n",
    "- A combinatorial optimisation problem is the act of trying to find out the value (combination) of variables that optimises an index (value) from among many options under various constraints.\n",
    "- The problem can be solved using constraint programming (CP) techniques"
   ]
  },
  {
   "cell_type": "markdown",
   "id": "1d79fa5d",
   "metadata": {
    "slideshow": {
     "slide_type": "slide"
    }
   },
   "source": [
    "# Minimal problem\n",
    "\n",
    "The supplier selection problem reduced to its most basic form"
   ]
  },
  {
   "cell_type": "markdown",
   "id": "9619100c",
   "metadata": {
    "slideshow": {
     "slide_type": "subslide"
    }
   },
   "source": [
    "## Demand\n",
    "\n",
    "A buyer is tasked with sourcing four parts for the manufacturing of a jet\n",
    "engine. The demand for each part is defined by the below table.\n",
    "\n",
    "| Part 1 | Part 2 | Part 3 | Part 4 |\n",
    "| ------ | ------ | ------ | ------ |\n",
    "| 300 | 20 | 150 | 80 |"
   ]
  },
  {
   "cell_type": "markdown",
   "id": "d0130328",
   "metadata": {
    "slideshow": {
     "slide_type": "subslide"
    }
   },
   "source": [
    "## Price\n",
    "\n",
    "There are two suppliers from which the buyer can source the required parts. The price quoted by each supplier for every part is detailed in the following table.\n",
    "\n",
    "| Supplier | Part 1 | Part 2 | Part 3 | Part 4 |\n",
    "| -------- | ------ | ------ | ------ | ------ |\n",
    "| 1 | £60 | £605 | £95 | £75 |\n",
    "| 2 | £50 | £615 | £98 | £60 |\n"
   ]
  },
  {
   "cell_type": "markdown",
   "id": "fee720bc",
   "metadata": {
    "slideshow": {
     "slide_type": "subslide"
    }
   },
   "source": [
    "## Manufacturing capacity\n",
    "\n",
    "Each supplier has constraints on manufacturing - i.e. they only have the capacity to manufacture $x$ number of parts. The manufacturing capacity of both suppliers is specified below.\n",
    "\n",
    "| Supplier | Parts limit | \n",
    "| -------- | ----------- |\n",
    "| 1 | 2 |\n",
    "| 2 | 3 |"
   ]
  },
  {
   "cell_type": "markdown",
   "id": "51b4bf70",
   "metadata": {
    "slideshow": {
     "slide_type": "subslide"
    }
   },
   "source": [
    "## Objective and constraints\n",
    "\n",
    "The **objective** is to minimise the total cost of procuring parts subject to the following constraints:\n",
    "\n",
    "- Constraint 1 - a supplier cannot be assigned more parts than that defined by their manufacturing capacity\n",
    "- Constraint 2 - the total manufactured volume of a part must be equal to demand"
   ]
  },
  {
   "cell_type": "markdown",
   "id": "24859fd9",
   "metadata": {
    "slideshow": {
     "slide_type": "subslide"
    }
   },
   "source": [
    "## Solution\n",
    "\n",
    "The buyer must procure parts from suppliers so that the total cost is minimised. The optimal solution (i.e. the solution that minimises cost) is detailed in the following table.\n"
   ]
  },
  {
   "cell_type": "code",
   "execution_count": 3,
   "id": "03f0af7d",
   "metadata": {
    "slideshow": {
     "slide_type": "fragment"
    }
   },
   "outputs": [],
   "source": [
    "price = [[60, 605, 95, 75],\n",
    "         [50, 615, 98, 60]]\n",
    "\n",
    "demand = [300, 20, 150, 80]\n",
    "\n",
    "capacity = [2, 3]\n",
    "\n",
    "supplier_selection = MinimalSupplierSelectionModel(price, demand,\n",
    "                                                   capacity)"
   ]
  },
  {
   "cell_type": "code",
   "execution_count": 4,
   "id": "e764ef68",
   "metadata": {
    "slideshow": {
     "slide_type": "subslide"
    }
   },
   "outputs": [
    {
     "name": "stdout",
     "output_type": "stream",
     "text": [
      "\n",
      "Optimal solution found: cost - £46,150.00\n",
      "\n",
      "Supplier 0\n",
      "----------\n",
      "Part 0 volume: 0\n",
      "Part 1 volume: 20\n",
      "Part 2 volume: 150\n",
      "Part 3 volume: 0\n",
      "\n",
      "Supplier 1\n",
      "----------\n",
      "Part 0 volume: 300\n",
      "Part 1 volume: 0\n",
      "Part 2 volume: 0\n",
      "Part 3 volume: 80\n"
     ]
    }
   ],
   "source": [
    "supplier_selection.minimise_cost()"
   ]
  },
  {
   "cell_type": "markdown",
   "id": "13e758f8",
   "metadata": {
    "slideshow": {
     "slide_type": "slide"
    }
   },
   "source": [
    "# Additional constraints"
   ]
  },
  {
   "cell_type": "markdown",
   "id": "14240dfa",
   "metadata": {
    "slideshow": {
     "slide_type": "subslide"
    }
   },
   "source": [
    "## Maximum share\n",
    "\n",
    "The buyer might have to consider an additional constraint on the maximum share of a part that can be assigned to a supplier. For example, manufacturers in China can only be assigned 30\\% of the volume for certain parts.\n",
    "\n",
    "| Supplier | Part 1 | Part 2 | Part 3 | Part 4 |\n",
    "| -------- | ------ | ------ | ------ | ------ |\n",
    "| 1 | 100% | 100% | 70% | 100% |\n",
    "| 2 | 30% | 100% | 30% | 75% |"
   ]
  },
  {
   "cell_type": "markdown",
   "id": "0f405193",
   "metadata": {
    "slideshow": {
     "slide_type": "subslide"
    }
   },
   "source": [
    "## Solution\n",
    "\n",
    "Solving the same problem but with constraints on the maximum share, the cost rises from **£46,150** to **£49,662**"
   ]
  },
  {
   "cell_type": "code",
   "execution_count": 5,
   "id": "24a41b66",
   "metadata": {
    "slideshow": {
     "slide_type": "fragment"
    }
   },
   "outputs": [],
   "source": [
    "price = [[60, 605, 95, 75],\n",
    "         [50, 615, 98, 60]]\n",
    "\n",
    "demand = [300, 20, 150, 80]\n",
    "\n",
    "capacity = [2, 3]\n",
    "\n",
    "share = [[100, 100, 30, 100],\n",
    "         [80, 100, 70, 100]]\n",
    "\n",
    "supplier_selection = MinimalSupplierSelectionModel(price, demand, \n",
    "                                                   capacity, share)"
   ]
  },
  {
   "cell_type": "code",
   "execution_count": 6,
   "id": "cff2c6ac",
   "metadata": {
    "slideshow": {
     "slide_type": "subslide"
    }
   },
   "outputs": [
    {
     "name": "stdout",
     "output_type": "stream",
     "text": [
      "\n",
      "Optimal solution found: cost - £49,662.00\n",
      "\n",
      "Supplier 0\n",
      "----------\n",
      "Part 0 volume: 300\n",
      "Part 1 volume: 0\n",
      "Part 2 volume: 46\n",
      "Part 3 volume: 0\n",
      "\n",
      "Supplier 1\n",
      "----------\n",
      "Part 0 volume: 0\n",
      "Part 1 volume: 20\n",
      "Part 2 volume: 104\n",
      "Part 3 volume: 80\n"
     ]
    }
   ],
   "source": [
    "supplier_selection.minimise_cost()"
   ]
  },
  {
   "cell_type": "markdown",
   "id": "ee9d7f16",
   "metadata": {
    "slideshow": {
     "slide_type": "subslide"
    }
   },
   "source": [
    "### Without maximum share constraint\n",
    "\n",
    "| Supplier | Part 1 | Part 2 | Part 3 | Part 4 |\n",
    "| -------- | ------ | ------ | ------ | ------ |\n",
    "| 1 | 0 | 20 | 150 | 0 |\n",
    "| 2 | 300 | 0 | 0 | 80 |\n",
    "\n",
    "### With maximum share constraint\n",
    "\n",
    "| Supplier | Part 1 | Part 2 | Part 3 | Part 4 |\n",
    "| -------- | ------ | ------ | ------ | ------ |\n",
    "| 1 | 300 | 0 | 46 | 0 |\n",
    "| 2 | 0 | 20 | 104 | 80 |"
   ]
  },
  {
   "cell_type": "markdown",
   "id": "1e8070e0",
   "metadata": {
    "slideshow": {
     "slide_type": "slide"
    }
   },
   "source": [
    "# Going beyond the minimal problem"
   ]
  },
  {
   "cell_type": "markdown",
   "id": "48da926b",
   "metadata": {
    "slideshow": {
     "slide_type": "subslide"
    }
   },
   "source": [
    "The price of parts is a function of time and changes year to year. For example, the price of parts will increase over time due to inflationary effects. Conversely the price might decrease due to learning effects. This is where the cost of production per unit decreases over time as suppliers become more familiar with the production process, hence leading to improvements in their efficiency level. The buyer might wish to switch the supplier of a part as time progresses but there will also be an associated transfer cost."
   ]
  },
  {
   "cell_type": "code",
   "execution_count": 7,
   "id": "24431c2e",
   "metadata": {
    "slideshow": {
     "slide_type": "subslide"
    }
   },
   "outputs": [],
   "source": [
    "price = [[[60, 62, 64], [605, 610, 615], [95, 96, 97], [75, 75, 75]],\n",
    "         [[50, 55, 60], [615, 610, 605], [98, 97, 96], [60, 70, 80]]]\n",
    "\n",
    "demand = [[300, 310, 320], [20, 30, 40], [150, 145, 130], [80, 80, 80]]\n",
    "\n",
    "capacity = [[4, 4, 4], [3, 3, 3]]\n",
    "\n",
    "share = [[100, 100, 30, 100],\n",
    "         [80, 100, 70, 100]]\n",
    "\n",
    "supplier_transfer_limit = [1, 2]\n",
    "\n",
    "supplier_selection = SupplierSelectionModel(price, \n",
    "                                            demand, \n",
    "                                            capacity, \n",
    "                                            supplier_transfer_limit, \n",
    "                                            3, \n",
    "                                            share)\n",
    "\n",
    "# supplier_selection.set_volume_constraint(1, 2, 0, 100)  # Supplier 1, Part 2, Year 0\n",
    "# supplier_selection.set_volume_constraint(1, 3, 2, 70)    # Supplier 1, Part 3, Year 2"
   ]
  },
  {
   "cell_type": "code",
   "execution_count": 8,
   "id": "27cdcb91",
   "metadata": {
    "slideshow": {
     "slide_type": "subslide"
    }
   },
   "outputs": [
    {
     "name": "stdout",
     "output_type": "stream",
     "text": [
      "\n",
      "Optimal solution found: cost - £162,900.00\n",
      "\n",
      "\n",
      "Part  0              0         1         2\n",
      "-------\n",
      "\n",
      "Supplier  0:        60        62        64\n",
      "                     0         0         0\n",
      "                     0         0         0\n",
      "                     0         0         0\n",
      "\n",
      "Supplier  1:        50        55        60\n",
      "                   300       310       320\n",
      "                     1         1         1\n",
      "                     0         0         0\n",
      "\n",
      "\n",
      "Part  1              0         1         2\n",
      "-------\n",
      "\n",
      "Supplier  0:       605       610       615\n",
      "                    20        30         0\n",
      "                     1         1         0\n",
      "                     0         0         0\n",
      "\n",
      "Supplier  1:       615       610       605\n",
      "                     0         0        40\n",
      "                     0         0         1\n",
      "                     0         0         1\n",
      "\n",
      "\n",
      "Part  2              0         1         2\n",
      "-------\n",
      "\n",
      "Supplier  0:        95        96        97\n",
      "                   150       145         0\n",
      "                     1         1         0\n",
      "                     0         0         0\n",
      "\n",
      "Supplier  1:        98        97        96\n",
      "                     0         0       130\n",
      "                     0         0         1\n",
      "                     0         0         1\n",
      "\n",
      "\n",
      "Part  3              0         1         2\n",
      "-------\n",
      "\n",
      "Supplier  0:        75        75        75\n",
      "                     0         0        80\n",
      "                     0         0         1\n",
      "                     0         0         1\n",
      "\n",
      "Supplier  1:        60        70        80\n",
      "                    80        80         0\n",
      "                     1         1         0\n",
      "                     0         0         0\n"
     ]
    }
   ],
   "source": [
    "supplier_selection.minimise_cost()"
   ]
  },
  {
   "cell_type": "code",
   "execution_count": 9,
   "id": "639a3706",
   "metadata": {
    "slideshow": {
     "slide_type": "subslide"
    }
   },
   "outputs": [],
   "source": [
    "price, demand, capacity, share, supplier_transfer_limit = generate_supplier_selector_variables(n_suppliers=5, \n",
    "                                                                                               n_parts=10,\n",
    "                                                                                               n_years=10,\n",
    "                                                                                               print_data=False);\n",
    "\n",
    "supplier_selection = SupplierSelectionModel(price, \n",
    "                                            demand, \n",
    "                                            capacity, \n",
    "                                            supplier_transfer_limit, \n",
    "                                            10, \n",
    "                                            share)"
   ]
  },
  {
   "cell_type": "code",
   "execution_count": 10,
   "id": "a0bccfd6",
   "metadata": {
    "slideshow": {
     "slide_type": "subslide"
    }
   },
   "outputs": [
    {
     "name": "stdout",
     "output_type": "stream",
     "text": [
      "\n",
      "Optimal solution found: cost - £1,419,818.00\n",
      "\n",
      "\n",
      "Part  0              0         1         2         3         4         5         6         7         8         9\n",
      "-------\n",
      "\n",
      "Supplier  0:       145         2        24       365       473       201       453       313       228        98\n",
      "                     0         0         0         0         0         0         0         0         0       149\n",
      "                     0         0         0         0         0         0         0         0         0         1\n",
      "                     0         0         0         0         0         0         0         0         0         1\n",
      "\n",
      "Supplier  1:       387       151       361        67       498        65       268         4         4       273\n",
      "                     0         0         0         0         0         0         0       127         0         0\n",
      "                     0         0         0         0         0         0         0         1         0         0\n",
      "                     0         0         0         0         0         0         0         1         0         0\n",
      "\n",
      "Supplier  2:       272        30         0        99       307       308       195         9       304       163\n",
      "                     0         0       197         0       289         0        19         0         0         0\n",
      "                     0         0         1         0         1         0         1         0         0         0\n",
      "                     0         0         1         0         1         0         1         0         0         0\n",
      "\n",
      "Supplier  3:       393       468        70       262       349       406       279       474        28       299\n",
      "                     0         0         0         0         0         0         0         0         0         0\n",
      "                     0         0         0         0         0         0         0         0         0         0\n",
      "                     0         0         0         0         0         0         0         0         0         0\n",
      "\n",
      "Supplier  4:        29         0       426        32       482       119       399       262         1       290\n",
      "                   276       187         0       142         0         0         0         0       266         0\n",
      "                     1         1         0         1         0         0         0         0         1         0\n",
      "                     0         0         0         1         0         0         0         0         1         0\n",
      "\n",
      "\n",
      "Part  1              0         1         2         3         4         5         6         7         8         9\n",
      "-------\n",
      "\n",
      "Supplier  0:       385        71       430        75       170        21       136       196        87       428\n",
      "                     0         0         0         0         0       180         0       128        93         0\n",
      "                     0         0         0         0         0         1         0         1         1         0\n",
      "                     0         0         0         0         0         1         0         1         0         0\n",
      "\n",
      "Supplier  1:       205       485       408       422        67       242       105       294        91        91\n",
      "                     0         0         0         0         0         0       139         0         0         0\n",
      "                     0         0         0         0         0         0         1         0         0         0\n",
      "                     0         0         0         0         0         0         1         0         0         0\n",
      "\n",
      "Supplier  2:       163       187       450       256       174       158       165       337       353       345\n",
      "                    71         0         0         0         0         0         0         0         0         0\n",
      "                     1         0         0         0         0         0         0         0         0         0\n",
      "                     0         0         0         0         0         0         0         0         0         0\n",
      "\n",
      "Supplier  3:       399       449       425        37        42        92       403       364       140       182\n",
      "                     0         0         0       299         0         0         0         0         0         0\n",
      "                     0         0         0         1         0         0         0         0         0         0\n",
      "                     0         0         0         1         0         0         0         0         0         0\n",
      "\n",
      "Supplier  4:       189        57       240       329        40        22       125       396       104        17\n",
      "                     0        55        52         0       227         0         0         0         0       264\n",
      "                     0         1         1         0         1         0         0         0         0         1\n",
      "                     0         1         0         0         1         0         0         0         0         1\n",
      "\n",
      "\n",
      "Part  2              0         1         2         3         4         5         6         7         8         9\n",
      "-------\n",
      "\n",
      "Supplier  0:       436       240       180       280       480       379       263        53        82        75\n",
      "                     0         0         0         0         0         0         0       158         1         0\n",
      "                     0         0         0         0         0         0         0         1         1         0\n",
      "                     0         0         0         0         0         0         0         1         0         0\n",
      "\n",
      "Supplier  1:       470       193       446       269       447       230       223        86       409       468\n",
      "                     0        52         0         0         0         0         0         0         0         0\n",
      "                     0         1         0         0         0         0         0         0         0         0\n",
      "                     0         1         0         0         0         0         0         0         0         0\n",
      "\n",
      "Supplier  2:       211       260        89       141       102       117       477        56       433       466\n",
      "                     0         0       216         0       278       259         0         0         0         0\n",
      "                     0         0         1         0         1         1         0         0         0         0\n",
      "                     0         0         1         0         1         0         0         0         0         0\n",
      "\n",
      "Supplier  3:        35       315       151       282       134       477       158       274       301        73\n",
      "                   246         0         0         0         0         0         0         0         0         0\n",
      "                     1         0         0         0         0         0         0         0         0         0\n",
      "                     0         0         0         0         0         0         0         0         0         0\n",
      "\n",
      "Supplier  4:       145       350       222        36       140       488        65       397       443        65\n",
      "                     0         0         0        71         0         0        64         0         0       290\n",
      "                     0         0         0         1         0         0         1         0         0         1\n",
      "                     0         0         0         1         0         0         1         0         0         1\n",
      "\n",
      "\n",
      "Part  3              0         1         2         3         4         5         6         7         8         9\n",
      "-------\n",
      "\n",
      "Supplier  0:       177       366       428        68       421       143       235       179       166       497\n",
      "                     0         0         0         0         0         0         0       166         0         0\n",
      "                     0         0         0         0         0         0         0         1         0         0\n",
      "                     0         0         0         0         0         0         0         1         0         0\n",
      "\n",
      "Supplier  1:        44       476       297       312       412        45       171       242        76       139\n",
      "                    23         0       200         0         0       220       162         0       194         0\n",
      "                     1         0         1         0         0         1         1         0         1         0\n",
      "                     0         0         1         0         0         1         0         0         1         0\n",
      "\n",
      "Supplier  2:       148       482       494       103       336       195       308       446       423       429\n",
      "                     0         0         0         0         0         0         0         0         0         0\n",
      "                     0         0         0         0         0         0         0         0         0         0\n",
      "                     0         0         0         0         0         0         0         0         0         0\n",
      "\n",
      "Supplier  3:       159       274       337        40        83        96       373       237       193       355\n",
      "                     0         0         0        87       208         0         0         0         0         0\n",
      "                     0         0         0         1         1         0         0         0         0         0\n",
      "                     0         0         0         1         0         0         0         0         0         0\n",
      "\n",
      "Supplier  4:       123       264       423       191       313       372       234       218       231        45\n",
      "                     0        47         0         0         0         0         0         0         0       260\n",
      "                     0         1         0         0         0         0         0         0         0         1\n",
      "                     0         1         0         0         0         0         0         0         0         1\n",
      "\n",
      "\n",
      "Part  4              0         1         2         3         4         5         6         7         8         9\n",
      "-------\n",
      "\n",
      "Supplier  0:       429       399       375       328       205        15       454       275       354       218\n",
      "                     0         0         0         0         0       188         0         0         0         0\n",
      "                     0         0         0         0         0         1         0         0         0         0\n",
      "                     0         0         0         0         0         1         0         0         0         0\n",
      "\n",
      "Supplier  1:       146       239       170        74       311       107       332        85       123        72\n",
      "                     0         0         0       124         0         0         0       128       138         0\n",
      "                     0         0         0         1         0         0         0         1         1         0\n",
      "                     0         0         0         1         0         0         0         1         0         0\n",
      "\n",
      "Supplier  2:        68       189         1       316       138       330       285       437       219       181\n",
      "                    86         0       172         0        48         0         0         0         0         0\n",
      "                     1         0         1         0         1         0         0         0         0         0\n",
      "                     0         0         1         0         1         0         0         0         0         0\n",
      "\n",
      "Supplier  3:       471       391       208       269       435       239       200       424       267        70\n",
      "                     0         0         0         0         0         0         0         0         0       192\n",
      "                     0         0         0         0         0         0         0         0         0         1\n",
      "                     0         0         0         0         0         0         0         0         0         1\n",
      "\n",
      "Supplier  4:       401       182       130       250       498       436       142       417       281       230\n",
      "                     0        82         0         0         0         0        25         0         0         0\n",
      "                     0         1         0         0         0         0         1         0         0         0\n",
      "                     0         1         0         0         0         0         1         0         0         0\n",
      "\n",
      "\n",
      "Part  5              0         1         2         3         4         5         6         7         8         9\n",
      "-------\n",
      "\n",
      "Supplier  0:       174        34       390       230       120       467       482       184       141       251\n",
      "                   133       217         0         0         0         0         0         0         0         0\n",
      "                     1         1         0         0         0         0         0         0         0         0\n",
      "                     0         0         0         0         0         0         0         0         0         0\n",
      "\n",
      "Supplier  1:       344       316        49       193       243       451        88        74       443       163\n",
      "                     0         0         0         0         0         0       110       216         0         0\n",
      "                     0         0         0         0         0         0         1         1         0         0\n",
      "                     0         0         0         0         0         0         1         0         0         0\n",
      "\n",
      "Supplier  2:       180       462       480       475       381        93       273       388       478        17\n",
      "                     0         0         0         0         0         0         0         0         0         0\n",
      "                     0         0         0         0         0         0         0         0         0         0\n",
      "                     0         0         0         0         0         0         0         0         0         0\n",
      "\n",
      "Supplier  3:       471       420        33       129       431        74       293       248       134       237\n",
      "                     0         0       165       128         0       183         0         0       235         0\n",
      "                     0         0         1         1         0         1         0         0         1         0\n",
      "                     0         0         1         0         0         1         0         0         1         0\n",
      "\n",
      "Supplier  4:       485       227        53       167        52       301       448       299       399        13\n",
      "                     0         0         0         0       174         0         0         0         0        33\n",
      "                     0         0         0         0         1         0         0         0         0         1\n",
      "                     0         0         0         0         1         0         0         0         0         1\n",
      "\n",
      "\n",
      "Part  6              0         1         2         3         4         5         6         7         8         9\n",
      "-------\n",
      "\n",
      "Supplier  0:       470       162       403       288       498        20        58       380        75       413\n",
      "                     0       182         0         0         0       171         0         0       298         0\n",
      "                     0         1         0         0         0         1         0         0         1         0\n",
      "                     0         1         0         0         0         1         0         0         1         0\n",
      "\n",
      "Supplier  1:       108       472       178       380       195       443       100       269       150       151\n",
      "                   289         0       105         0         0         0         0         0         0       275\n",
      "                     1         0         1         0         0         0         0         0         0         1\n",
      "                     0         0         1         0         0         0         0         0         0         1\n",
      "\n",
      "Supplier  2:       112       484       276       228       261       130        64       346       144       174\n",
      "                     0         0         0       161         0         0         0         0         0         0\n",
      "                     0         0         0         1         0         0         0         0         0         0\n",
      "                     0         0         0         1         0         0         0         0         0         0\n",
      "\n",
      "Supplier  3:       436       387       267       428       114       206       164       256       361       481\n",
      "                     0         0         0         0         0         0         0       234         0         0\n",
      "                     0         0         0         0         0         0         0         1         0         0\n",
      "                     0         0         0         0         0         0         0         1         0         0\n",
      "\n",
      "Supplier  4:       380       391       253       263        48       420        55       436       479       484\n",
      "                     0         0         0         0       168         0        68         0         0         0\n",
      "                     0         0         0         0         1         0         1         0         0         0\n",
      "                     0         0         0         0         1         0         1         0         0         0\n",
      "\n",
      "\n",
      "Part  7              0         1         2         3         4         5         6         7         8         9\n",
      "-------\n",
      "\n",
      "Supplier  0:       284       480       497       111       364        41       433       194       126       317\n",
      "                     0         0         0         0         0        15         0         0         0         0\n",
      "                     0         0         0         0         0         1         0         0         0         0\n",
      "                     0         0         0         0         0         1         0         0         0         0\n",
      "\n",
      "Supplier  1:       281       243       154       361       203       207       464       194       449       461\n",
      "                     0         0       127         0         0         0         0         0         0         0\n",
      "                     0         0         1         0         0         0         0         0         0         0\n",
      "                     0         0         1         0         0         0         0         0         0         0\n",
      "\n",
      "Supplier  2:       178       154       233        34        78       325        61       289       113       407\n",
      "                     0       238         0         0       122         0         0         0         0         0\n",
      "                     0         1         0         0         1         0         0         0         0         0\n",
      "                     0         1         0         0         1         0         0         0         0         0\n",
      "\n",
      "Supplier  3:        40       190       494       168       465       440        24       254        41       198\n",
      "                     0         0         0         0         0         0       261         0         1       212\n",
      "                     0         0         0         0         0         0         1         0         1         1\n",
      "                     0         0         0         0         0         0         1         0         1         0\n",
      "\n",
      "Supplier  4:        23       316       199        12       225       488       283        26       125       378\n",
      "                   191         0         0       210         0         0         0       112         0         0\n",
      "                     1         0         0         1         0         0         0         1         0         0\n",
      "                     0         0         0         1         0         0         0         1         0         0\n",
      "\n",
      "\n",
      "Part  8              0         1         2         3         4         5         6         7         8         9\n",
      "-------\n",
      "\n",
      "Supplier  0:       327       208       420       317       170       219       187       415        41       110\n",
      "                     0         0         0         0         0         0         0         0       277         0\n",
      "                     0         0         0         0         0         0         0         0         1         0\n",
      "                     0         0         0         0         0         0         0         0         1         0\n",
      "\n",
      "Supplier  1:       441       320       379         3        18       311       265       452       339       222\n",
      "                     0         0         0       192       191         0         0         0         0         0\n",
      "                     0         0         0         1         1         0         0         0         0         0\n",
      "                     0         0         0         1         0         0         0         0         0         0\n",
      "\n",
      "Supplier  2:        95       166       197       426       373       102       235       474        91       108\n",
      "                    85       253       257         0         0       112         0         0         0       289\n",
      "                     1         1         1         0         0         1         0         0         0         1\n",
      "                     0         0         0         0         0         1         0         0         0         1\n",
      "\n",
      "Supplier  3:       413       282       420       281       400       160        75        96       107       236\n",
      "                     0         0         0         0         0         0        48       208         0         0\n",
      "                     0         0         0         0         0         0         1         1         0         0\n",
      "                     0         0         0         0         0         0         1         0         0         0\n",
      "\n",
      "Supplier  4:       499       492       244       440       224       134       465       362       228       326\n",
      "                     0         0         0         0         0         0         0         0         0         0\n",
      "                     0         0         0         0         0         0         0         0         0         0\n",
      "                     0         0         0         0         0         0         0         0         0         0\n",
      "\n",
      "\n",
      "Part  9              0         1         2         3         4         5         6         7         8         9\n",
      "-------\n",
      "\n",
      "Supplier  0:       131       280        50        41        46        53       385       191         3       257\n",
      "                    66         0       152       157       219         5         0         0        36         0\n",
      "                     1         0         1         1         1         1         0         0         1         0\n",
      "                     0         0         1         0         0         0         0         0         1         0\n",
      "\n",
      "Supplier  1:       338       179       475       421       136       222       362        47       297       137\n",
      "                     0         0         0         0         0         0         0        53         0       177\n",
      "                     0         0         0         0         0         0         0         1         0         1\n",
      "                     0         0         0         0         0         0         0         1         0         1\n",
      "\n",
      "Supplier  2:       320       356        68       382       249       390       149        99       446       355\n",
      "                     0         0         0         0         0         0       245         0         0         0\n",
      "                     0         0         0         0         0         0         1         0         0         0\n",
      "                     0         0         0         0         0         0         1         0         0         0\n",
      "\n",
      "Supplier  3:       359       492       298       480       382       184       485        81       355       166\n",
      "                     0         0         0         0         0         0         0         0         0         0\n",
      "                     0         0         0         0         0         0         0         0         0         0\n",
      "                     0         0         0         0         0         0         0         0         0         0\n",
      "\n",
      "Supplier  4:       253       156        57        49       261       386       323       103       192       251\n",
      "                     0        19         0         0         0         0         0         0         0         0\n",
      "                     0         1         0         0         0         0         0         0         0         0\n",
      "                     0         1         0         0         0         0         0         0         0         0\n"
     ]
    }
   ],
   "source": [
    "supplier_selection.minimise_cost()"
   ]
  }
 ],
 "metadata": {
  "celltoolbar": "Slideshow",
  "kernelspec": {
   "display_name": "Python 3 (ipykernel)",
   "language": "python",
   "name": "python3"
  },
  "language_info": {
   "codemirror_mode": {
    "name": "ipython",
    "version": 3
   },
   "file_extension": ".py",
   "mimetype": "text/x-python",
   "name": "python",
   "nbconvert_exporter": "python",
   "pygments_lexer": "ipython3",
   "version": "3.11.1"
  }
 },
 "nbformat": 4,
 "nbformat_minor": 5
}
