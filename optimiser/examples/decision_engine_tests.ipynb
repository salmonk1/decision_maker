{
 "cells": [
  {
   "cell_type": "code",
   "execution_count": 1,
   "id": "3f8ff0a9",
   "metadata": {
    "slideshow": {
     "slide_type": "skip"
    }
   },
   "outputs": [],
   "source": [
    "import sys\n",
    "sys.path.append('../src/')\n",
    "\n",
    "from decision_engine import MinimalSupplierSelectionModel, SupplierSelectionModel\n",
    "import numpy as np"
   ]
  },
  {
   "cell_type": "markdown",
   "id": "94530bd2",
   "metadata": {},
   "source": [
    "# Constraints\n",
    "\n",
    "- **Constraint 1**: the total number of units ordered for a unique part must be equal to demand\n",
    "- **Constraint 2**: a supplier cannot be assigned more unique parts than that defined by their manufacturing capacity\n",
    "- **Constraint 3**: the number of units assigned to suppliers from China must be less than or equal to 30$\\%$ of the total demand\n",
    "- **Constraint 4**: "
   ]
  },
  {
   "cell_type": "markdown",
   "id": "3af5257b",
   "metadata": {},
   "source": [
    "# Test 1 \n",
    "\n",
    "- **Constraint 1**: the total number of units ordered for a unique part must be equal to demand\n",
    "- No constraint on the number of unique parts that a supplier can manufacture, therefore the supplier with the cheapest quote should be selected\n",
    "\n",
    "### Demand\n",
    "\n",
    "| Part 0 | Part 1 |\n",
    "| ------ | ------ |\n",
    "| 300 | 20 |\n",
    "\n",
    "### Price\n",
    "\n",
    "| Supplier | Part 0 | Part 1 |\n",
    "| -------- | ------ | ------ |\n",
    "| 0 | £60 | £605 |\n",
    "| 1 | £50 | £615 |\n",
    "\n",
    "### Solution (units)\n",
    "\n",
    "| Supplier | Part 0 | Part 1 |\n",
    "| -------- | ------ | ------ |\n",
    "| 0 | 0 | 20 |\n",
    "| 1 | 300 | 0 |\n"
   ]
  },
  {
   "cell_type": "code",
   "execution_count": 2,
   "id": "0d68b63b",
   "metadata": {},
   "outputs": [
    {
     "name": "stdout",
     "output_type": "stream",
     "text": [
      "\n",
      "Optimal solution found: cost - £27,100.00\n",
      "\n",
      "Supplier 0\n",
      "----------\n",
      "Part 0 units: 0\n",
      "Part 1 units: 20\n",
      "\n",
      "Supplier 1\n",
      "----------\n",
      "Part 0 units: 300\n",
      "Part 1 units: 0\n"
     ]
    }
   ],
   "source": [
    "demand = [300, 20]\n",
    "\n",
    "price = [[60, 605],\n",
    "         [50, 615]]\n",
    "\n",
    "test_1 = MinimalSupplierSelectionModel(price, demand)\n",
    "test_1.minimise_cost()"
   ]
  },
  {
   "cell_type": "markdown",
   "id": "187603f0",
   "metadata": {},
   "source": [
    "# Test 2 \n",
    "\n",
    "- **Constraint 1**: the total number of units ordered for a unique part must be equal to demand\n",
    "- **Constraint 2**:  supplier cannot be assigned more unique parts than that defined by their manufacturing capacity\n",
    "\n",
    "\n",
    "### Demand\n",
    "\n",
    "| Part 0 | Part 1 |\n",
    "| ------ | ------ |\n",
    "| 300 | 20 |\n",
    "\n",
    "### Price\n",
    "\n",
    "| Supplier | Part 0 | Part 1 |\n",
    "| -------- | ------ | ------ |\n",
    "| 0 | £60 | £605 |\n",
    "| 1 | £50 | £450 |\n",
    "\n",
    "### Manufacturing capacity\n",
    "\n",
    "| Supplier | Parts limit | \n",
    "| -------- | ----------- |\n",
    "| 0 | 1 |\n",
    "| 1 | 1 |\n",
    "\n",
    "\n",
    "### Solution (units)\n",
    "\n",
    "Calculate the difference between selecting the cheapest supplier for Part 0 and Part 1\n",
    "\n",
    "**Part 0**: (£60 x 300) - (£50 x 300) = £18,000 - £15,000 = £3,000\n",
    "\n",
    "**Part 1**: (£605 x 20) - (£450 x 20) = £12,100 - £9,000 = £3,100\n",
    "\n",
    "$\\therefore$ it is £100 cheaper to assign all units of Part 1 to Supplier 1\n",
    "\n",
    "| Supplier | Part 0 | Part 1 |\n",
    "| -------- | ------ | ------ |\n",
    "| 0 | 300 | 0 |\n",
    "| 1 | 0 | 20 |\n"
   ]
  },
  {
   "cell_type": "code",
   "execution_count": 3,
   "id": "fe407107",
   "metadata": {},
   "outputs": [
    {
     "name": "stdout",
     "output_type": "stream",
     "text": [
      "\n",
      "Optimal solution found: cost - £27,000.00\n",
      "\n",
      "Supplier 0\n",
      "----------\n",
      "Part 0 units: 300\n",
      "Part 1 units: 0\n",
      "\n",
      "Supplier 1\n",
      "----------\n",
      "Part 0 units: 0\n",
      "Part 1 units: 20\n"
     ]
    }
   ],
   "source": [
    "demand = [300, 20]\n",
    "\n",
    "price = [[60, 605],\n",
    "         [50, 450]]\n",
    "\n",
    "capacity = [1, 1]\n",
    "\n",
    "test_2 = MinimalSupplierSelectionModel(price, demand, capacity)\n",
    "test_2.minimise_cost()"
   ]
  },
  {
   "cell_type": "markdown",
   "id": "9279016e",
   "metadata": {},
   "source": [
    "# Test 3 \n",
    "\n",
    "- **Constraint 1**: the total number of units ordered for a unique part must be equal to demand\n",
    "- **Constraint 2**: a supplier cannot be assigned more unique parts than that defined by their manufacturing capacity\n",
    "- **Constraint 3**: the number of units assigned to suppliers from China must be less than or equal to 30$\\%$ of the total demand"
   ]
  }
 ],
 "metadata": {
  "kernelspec": {
   "display_name": "Python 3 (ipykernel)",
   "language": "python",
   "name": "python3"
  },
  "language_info": {
   "codemirror_mode": {
    "name": "ipython",
    "version": 3
   },
   "file_extension": ".py",
   "mimetype": "text/x-python",
   "name": "python",
   "nbconvert_exporter": "python",
   "pygments_lexer": "ipython3",
   "version": "3.11.2"
  }
 },
 "nbformat": 4,
 "nbformat_minor": 5
}
