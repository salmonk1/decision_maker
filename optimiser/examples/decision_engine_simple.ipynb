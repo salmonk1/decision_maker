{
 "cells": [
  {
   "cell_type": "code",
   "execution_count": 1,
   "id": "3f8ff0a9",
   "metadata": {
    "slideshow": {
     "slide_type": "skip"
    }
   },
   "outputs": [],
   "source": [
    "import sys\n",
    "sys.path.append('../src/')\n",
    "\n",
    "from decision_engine import MinimalSupplierSelectionModel, SupplierSelectionModel\n",
    "from utils import generate_supplier_selector_variables, compute_reduced_price"
   ]
  },
  {
   "cell_type": "markdown",
   "id": "3b9f3581",
   "metadata": {},
   "source": [
    "---\n",
    "\n",
    "# Decision Engine\n",
    "\n",
    "### Background\n",
    "\n",
    "- **What is Decision Engine?**: a tool to solve supplier selection problems\n",
    "- **What is a supplier selection problem?**: Supplier selection is the process by which companies identify, evaluate, and award contracts to suppliers\n",
    "- **High-level problem statement**: Select suppliers, subject to some constraints, so that an objective is minimised or maximised (e.g. minimise total cost)\n",
    "\n",
    "### Aims\n",
    "\n",
    "- Breakdown the supplier selection problem to its simplest form and then gently build up to a real problem in a way that promotes understanding. \n",
    "- Understand the general structure of the supplier selection problem (combinatorial optimisation problem)\n",
    "- After studying this notebook, you should be able to identify structurally similar problems when talking to potential clients\n",
    "- Detail an example where real quantifiable value has been delivered to a customer\n",
    "\n",
    "\n",
    "### Who is this notebook aimed at?\n",
    "\n",
    "- Everyone (with a focus on those who directly speak to potential customers)\n",
    "- There is no maths: only a problem statement and the solution"
   ]
  },
  {
   "cell_type": "markdown",
   "id": "024ea10a",
   "metadata": {
    "slideshow": {
     "slide_type": "slide"
    }
   },
   "source": [
    "---\n",
    "\n",
    "# Typical problem statement\n",
    "\n",
    "- Rolls-Royce need to procure approximately 1000 unique forged metal parts for the Trent XWB engine.\n",
    "- There are 30 suppliers globally that have the skills and equipment to manufacture the required parts.\n",
    "- Rolls-Royce provide all 30 suppliers with the information required to price and submit a bid to manufacture any unique part.\n",
    "- Rolls-Royce receive the bids and must then decide who is awarded the manufacturing contract for every unique part\n",
    "\n",
    "### Constraints\n",
    "\n",
    "- At first this might appear to be trivial (select the cheapest bid for every part), however there are a number of constraints that must be considered\n",
    "    - There is a limit on the number of unique parts that a supplier can manufacture\n",
    "    - Manufacturers based in certain countries (e.g. China) are limited to manufacturing a percentage of the total demand (number of required units) of a unique part\n",
    "    \n",
    "### Combinatorial optimisation\n",
    "\n",
    "- The problem is no longer trivial and is an example of a combinatorial optimisation problem \n",
    "- A combinatorial optimisation problem is the act of trying to find out the value (combination) of variables that optimises an index (value) from among many options under various constraints.\n",
    "- The problem can be solved using constraint programming (CP) techniques"
   ]
  },
  {
   "cell_type": "markdown",
   "id": "1d79fa5d",
   "metadata": {
    "slideshow": {
     "slide_type": "slide"
    }
   },
   "source": [
    "---\n",
    "\n",
    "# Minimal problem\n",
    "\n",
    "The supplier selection problem reduced to its most basic form\n",
    "\n",
    "### Demand\n",
    "\n",
    "A buyer is tasked with sourcing four parts for the manufacturing of a jet\n",
    "engine. The demand for each part is defined by the below table.\n",
    "\n",
    "| Part 1 | Part 2 | Part 3 | Part 4 |\n",
    "| ------ | ------ | ------ | ------ |\n",
    "| 300 | 20 | 150 | 80 |\n",
    "\n",
    "### Price\n",
    "\n",
    "There are two suppliers from which the buyer can source the required parts. The price quoted by each supplier for every part is detailed in the following table.\n",
    "\n",
    "| Supplier | Part 1 | Part 2 | Part 3 | Part 4 |\n",
    "| -------- | ------ | ------ | ------ | ------ |\n",
    "| 1 | £60k | £605k | £9.5k | £75k |\n",
    "| 2 | £50k | £615k | £9.8k | £60k |\n",
    "\n",
    "### Manufacturing capacity\n",
    "\n",
    "Each supplier has constraints on manufacturing - i.e. they only have the capacity (or are only trusted) to manufacture $x$ unique parts. The manufacturing capacity of both suppliers is specified below.\n",
    "\n",
    "| Supplier | Unique parts limit | \n",
    "| -------- | ----------- |\n",
    "| 1 | 2 |\n",
    "| 2 | 3 |\n",
    "\n",
    "### Objective and constraints\n",
    "\n",
    "The **objective** is to minimise the total cost of procuring parts subject to the following constraints:\n",
    "\n",
    "- Constraint 1 - a supplier cannot be assigned more unique parts than that defined by their manufacturing capacity\n",
    "- Constraint 2 - the total number of units ordered (assigned to suppliers for manufacturing) must be equal to demand"
   ]
  },
  {
   "cell_type": "markdown",
   "id": "24859fd9",
   "metadata": {
    "slideshow": {
     "slide_type": "subslide"
    }
   },
   "source": [
    "## Solution\n",
    "\n",
    "The buyer must procure parts from suppliers so that the total cost is minimised. The optimal solution (i.e. the solution that minimises cost) is detailed below."
   ]
  },
  {
   "cell_type": "code",
   "execution_count": 2,
   "id": "03f0af7d",
   "metadata": {
    "slideshow": {
     "slide_type": "fragment"
    }
   },
   "outputs": [],
   "source": [
    "price = [[60E3, 605E3, 9.5E3, 75E3],\n",
    "         [50E3, 615E3, 9.8E3, 60E3]]\n",
    "\n",
    "demand = [300, 20, 150, 80]\n",
    "\n",
    "capacity = [2, 3]\n",
    "\n",
    "supplier_selection_min_a = MinimalSupplierSelectionModel(price, demand, capacity)"
   ]
  },
  {
   "cell_type": "code",
   "execution_count": 3,
   "id": "e764ef68",
   "metadata": {
    "slideshow": {
     "slide_type": "subslide"
    }
   },
   "outputs": [
    {
     "name": "stdout",
     "output_type": "stream",
     "text": [
      "\n",
      "Optimal solution found: cost - £33,325,000.00\n",
      "\n",
      "Supplier 1\n",
      "----------\n",
      "Part 1 units: 0\n",
      "Part 2 units: 20\n",
      "Part 3 units: 150\n",
      "Part 4 units: 0\n",
      "\n",
      "Supplier 2\n",
      "----------\n",
      "Part 1 units: 300\n",
      "Part 2 units: 0\n",
      "Part 3 units: 0\n",
      "Part 4 units: 80\n"
     ]
    }
   ],
   "source": [
    "supplier_selection_min_a.minimise_cost()"
   ]
  },
  {
   "cell_type": "markdown",
   "id": "13e758f8",
   "metadata": {
    "slideshow": {
     "slide_type": "slide"
    }
   },
   "source": [
    "\n",
    "## Adding further constraints - maximum share\n",
    "\n",
    "The buyer might have to consider an additional constraint on the maximum share of a unique part that can be assigned to a supplier. For example, manufacturers in China are limited to manufacturing 30% of the total demand of specific parts\n",
    "\n",
    "| Supplier | Part 1 | Part 2 | Part 3 | Part 4 |\n",
    "| -------- | ------ | ------ | ------ | ------ |\n",
    "| 1 | 100% | 100% | 30% | 100% |\n",
    "| 2 | 80% | 100% |70% | 100% |"
   ]
  },
  {
   "cell_type": "markdown",
   "id": "0f405193",
   "metadata": {
    "slideshow": {
     "slide_type": "subslide"
    }
   },
   "source": [
    "## Solution\n",
    "\n",
    "Solving the same problem but with constraints on the maximum share, the cost rises from **£33,325,000** to **£36,556,200** - a 10% increase in the total cost"
   ]
  },
  {
   "cell_type": "code",
   "execution_count": 4,
   "id": "24a41b66",
   "metadata": {
    "slideshow": {
     "slide_type": "fragment"
    }
   },
   "outputs": [],
   "source": [
    "price = [[60E3, 605E3, 9.5E3, 75E3],\n",
    "         [50E3, 615E3, 9.8E3, 60E3]]\n",
    "\n",
    "demand = [300, 20, 150, 80]\n",
    "\n",
    "capacity = [2, 3]\n",
    "\n",
    "share = [[100, 100, 30, 100],\n",
    "         [80, 100, 70, 100]]\n",
    "\n",
    "supplier_selection_min_b = MinimalSupplierSelectionModel(price, demand, capacity, share)"
   ]
  },
  {
   "cell_type": "code",
   "execution_count": 5,
   "id": "cff2c6ac",
   "metadata": {
    "slideshow": {
     "slide_type": "subslide"
    }
   },
   "outputs": [
    {
     "name": "stdout",
     "output_type": "stream",
     "text": [
      "\n",
      "Optimal solution found: cost - £36,556,200.00\n",
      "\n",
      "Supplier 1\n",
      "----------\n",
      "Part 1 units: 300\n",
      "Part 2 units: 0\n",
      "Part 3 units: 46\n",
      "Part 4 units: 0\n",
      "\n",
      "Supplier 2\n",
      "----------\n",
      "Part 1 units: 0\n",
      "Part 2 units: 20\n",
      "Part 3 units: 104\n",
      "Part 4 units: 80\n"
     ]
    }
   ],
   "source": [
    "supplier_selection_min_b.minimise_cost()"
   ]
  },
  {
   "cell_type": "markdown",
   "id": "ee9d7f16",
   "metadata": {
    "slideshow": {
     "slide_type": "subslide"
    }
   },
   "source": [
    "### Units (volume) - without maximum share constraint\n",
    "\n",
    "| Supplier | Part 1 | Part 2 | Part 3 | Part 4 |\n",
    "| -------- | ------ | ------ | ------ | ------ |\n",
    "| 1 | 0 | 20 | 150 | 0 |\n",
    "| 2 | 300 | 0 | 0 | 80 |\n",
    "\n",
    "### Units (volume) - with maximum share constraint\n",
    "\n",
    "| Supplier | Part 1 | Part 2 | Part 3 | Part 4 |\n",
    "| -------- | ------ | ------ | ------ | ------ |\n",
    "| 1 | 300 | 0 | 46 | 0 |\n",
    "| 2 | 0 | 20 | 104 | 80 |\n",
    "\n",
    "### What makes this problem difficult?\n",
    "\n",
    "- Every cell in the above table can take a value from 0 to 300\n",
    "- Using a naive brute force method, we would have to compute $300^8$ possible combinations and then select the best solution\n",
    "- To put this in perspective, $300^8$ is $\\approx 6.6\\times10^{19}$ which is approaching the number of grains of sand on all the worlds beaches\n",
    "- This problem is computationally intractable if we employ a brute force method\n",
    "- By accounting for the constraints, the potential solution space can be significantly reduced and the problem becomes computationally feasible\n",
    "- All of this complexity is handled by Google OR-Tools"
   ]
  },
  {
   "cell_type": "markdown",
   "id": "1e8070e0",
   "metadata": {
    "slideshow": {
     "slide_type": "slide"
    }
   },
   "source": [
    "---\n",
    "\n",
    "# Going beyond the minimal problem - adding a time dimension\n",
    "\n",
    "- The price of parts is a function of time and changes year to year \n",
    "- The price of parts will increase over time due to inflationary effects\n",
    "- Conversely the price might decrease due to learning effects. This is where the cost of production per unit decreases over time as suppliers become more familiar with the production process, hence leading to improvements in their efficiency level\n",
    "- The buyer might wish to switch the supplier of a part as time progresses but there will also be an associated transfer cost.\n",
    "\n",
    "### Price\n",
    "\n",
    "| Supplier | Part 1 | Part 2 | Part 3 | Part 4 |\n",
    "| -------- | ------ | ------ | ------ | ------ |\n",
    "| 1 | [£60k, £62k, £64k] | [£605k, £610k, £605k] | [£9.5k, £9.6k, £9.7k] | [£75k, £75k, £75k] |\n",
    "| 2 | [£50k, £55k, £60k] | [£615k, £610k, £605k] | [£9.8k, £9.7k, £9.6k] | [£60k, £70k, £80k] |\n",
    "\n",
    "### Demand\n",
    "\n",
    "| Part 1 | Part 2 | Part 3 | Part 4 |\n",
    "| ------ | ------ | ------ | ------ |\n",
    "| [300, 310, 320] | [20, 30, 40] | [150, 145, 130] | [80, 80, 80] |\n",
    "\n",
    "### Manufacturing capacity\n",
    "\n",
    "| Supplier | Parts limit | \n",
    "| -------- | ----------- |\n",
    "| 1 | [3, 3, 3] |\n",
    "| 2 | [4, 4, 4] |\n",
    "\n",
    "### Maximum Share\n",
    "\n",
    "The maximum share of a part that can be assigned to a supplier - e.g. manufactures based in China can only be assigned 30% of volume for an individual part\n",
    "\n",
    "| Supplier | Part 1 | Part 2 | Part 3 | Part 4 |\n",
    "| -------- | ------ | ------ | ------ | ------ |\n",
    "| 1 | 100 | 100 | 30 | 100 |\n",
    "| 2 | 80 | 100 | 70 | 100 |\n",
    "\n",
    "\n",
    "## Additional constraints\n",
    "\n",
    "There are a number of additional constraints that we must consider:\n",
    "\n",
    "- **Global transfer limit** - in a given year the total number of transfers (switching the manufacturing of a part to a new supplier) must be equal to or less than the global transfer limit. This help to maintain the robustness of the supply chain.\n",
    "- **Supplier transer limit** - in a given year the total number of transfers that a supplier can accept must be less than the supplier transfer limit. This helps to maintain the robustness of the supply chain.\n",
    "- **Minimum units (volume)** - a supplier will only accept a contract to manufacture a part if the number of units exceeds a minimum threshold\n",
    "- **Trust** - Rolls-Royce buyers assign a trust value to every supplier and part. Trust is an uncertain metric that represents confidence in a supplier and is based on the historical performance of a supplier. In the simplest case, trust is a boolean variable: `True` - Rolls-Royce trust Supplier $x$ to manufacture Part $y$, `False` - Rolls-Royce do not trust Supplier $x$ to manufacture Part $y$.\n",
    "- **Contractual requirements** - for example, a supplier must provide a specific quantity of a part in a given year\n",
    "\n",
    "\n",
    "### Transfer limits\n",
    "\n",
    "$$\\textrm{global transfer limit per year} = 2$$\n",
    "\n",
    "| Supplier | Transfer limit | \n",
    "| -------- | ----------- |\n",
    "| 1 | 2 |\n",
    "| 2 | 1 |\n",
    "\n",
    "### Transfer costs\n",
    "\n",
    "One off cost associated with retooling a factory so that a new part can be produced (note: not implemented in this example)\n",
    "\n",
    "| Supplier | Part 1 | Part 2 | Part 3 | Part 4 |\n",
    "| -------- | ------ | ------ | ------ | ------ |\n",
    "| 1 | [£0, £0, £0] | [£1000k, £1100k, £1200k] | [£0, 0, 0] | [£700k, £750k, £800k] |\n",
    "| 2 | [£600k, £650k, £700k] | [£0, 0, 0] | [£0, 0, 0] | [£800k, £900k, £1000k] |\n",
    "\n",
    "### Minimum units (volume)\n",
    "\n",
    "| Supplier | Part 1 | Part 2 | Part 3 | Part 4 |\n",
    "| -------- | ------ | ------ | ------ | ------ |\n",
    "| 1 | [100, 100, 100] | [5, 5, 5] | [20, 25, 30] | [15, 15, 15] |\n",
    "| 2 | [100, 100, 100] | [5, 5, 5] | [20, 25, 30] | [15, 15, 15] |\n",
    "\n",
    "### Trust\n",
    "\n",
    "| Supplier | Part 1 | Part 2 | Part 3 | Part 4 |\n",
    "| -------- | ------ | ------ | ------ | ------ |\n",
    "| 1 | True | False | True | True |\n",
    "| 2 | True | True | True | False |\n"
   ]
  },
  {
   "cell_type": "code",
   "execution_count": 6,
   "id": "24431c2e",
   "metadata": {
    "slideshow": {
     "slide_type": "subslide"
    }
   },
   "outputs": [
    {
     "name": "stdout",
     "output_type": "stream",
     "text": [
      "Execution time: 0.00250 seconds\n"
     ]
    }
   ],
   "source": [
    "price = [[[60E3, 62E3, 64E3], [605E3, 610E3, 615E3], [9.5E3, 9.6E3, 9.7E3], [75E3, 75E3, 75E3]],\n",
    "         [[50E3, 55E3, 60E3], [615E3, 610E3, 605E3], [9.8E3, 9.7E3, 9.6E3], [60E3, 70E3, 80E3]]]\n",
    "\n",
    "demand = [[300, 310, 320], [20, 30, 40], [150, 145, 130], [80, 80, 80]]\n",
    "\n",
    "capacity = [[3, 3, 3], [4, 4, 4]]\n",
    "\n",
    "share = [[100, 100, 30, 100],\n",
    "         [80, 100, 70, 100]]\n",
    "\n",
    "supplier_transfer_limit = [1, 2]\n",
    "\n",
    "min_units = [[[100, 100, 100], [5, 5, 5], [20, 25, 30], [15, 15, 15]],\n",
    "             [[100, 100, 100], [5, 5, 5], [20, 25, 30], [15, 15, 15]]]\n",
    "\n",
    "trust = [[True, False, True, True],\n",
    "         [True, True, True, True]]\n",
    "\n",
    "supplier_selection = SupplierSelectionModel(price, \n",
    "                                            demand, \n",
    "                                            capacity=capacity,\n",
    "                                            share=share,\n",
    "                                            supplier_transfer_limit=supplier_transfer_limit,\n",
    "                                            global_transfer_limit=None,\n",
    "                                            minimum_units=min_units,\n",
    "                                            trust=trust)"
   ]
  },
  {
   "cell_type": "code",
   "execution_count": 7,
   "id": "27cdcb91",
   "metadata": {
    "slideshow": {
     "slide_type": "subslide"
    }
   },
   "outputs": [
    {
     "name": "stdout",
     "output_type": "stream",
     "text": [
      "\n",
      "Optimal solution found: cost - £128,660,100.00\n",
      "Execution time: 0.01074 seconds\n"
     ]
    }
   ],
   "source": [
    "supplier_selection.minimise_cost()"
   ]
  },
  {
   "cell_type": "code",
   "execution_count": 8,
   "id": "2df820bc",
   "metadata": {},
   "outputs": [
    {
     "name": "stdout",
     "output_type": "stream",
     "text": [
      "\n",
      "\n",
      "Part  1              1         2         3\n",
      "-------\n",
      "\n",
      "Supplier  1:       100       100       100\n",
      "\n",
      "Supplier  2:       200       210       220\n",
      "\n",
      "\n",
      "Part  2              1         2         3\n",
      "-------\n",
      "\n",
      "Supplier  1:         0         0         0\n",
      "\n",
      "Supplier  2:        20        30        40\n",
      "\n",
      "\n",
      "Part  3              1         2         3\n",
      "-------\n",
      "\n",
      "Supplier  1:        46        44        38\n",
      "\n",
      "Supplier  2:       104       101        92\n",
      "\n",
      "\n",
      "Part  4              1         2         3\n",
      "-------\n",
      "\n",
      "Supplier  1:         0         0        80\n",
      "\n",
      "Supplier  2:        80        80         0\n"
     ]
    }
   ],
   "source": [
    "supplier_selection.print_solution(volume=True)"
   ]
  },
  {
   "cell_type": "markdown",
   "id": "6db1c8e3",
   "metadata": {},
   "source": [
    "---\n",
    "\n",
    "#  Scenario planning\n",
    "\n",
    "The real power of the Decision Engine is to be able to formulate buying strategies and questions (referred to as scenarios) and to then understand and compare the impliciations of different strategies\n",
    "\n",
    "## Base scenario\n",
    "\n",
    "- 25 parts\n",
    "- 10 years\n",
    "- 5 suppliers\n",
    "- All constraints enforced\n",
    "- Total cost: **£2,149,881,615**"
   ]
  },
  {
   "cell_type": "code",
   "execution_count": 9,
   "id": "5fbe2f92",
   "metadata": {},
   "outputs": [
    {
     "name": "stdout",
     "output_type": "stream",
     "text": [
      "Execution time: 0.14239 seconds\n",
      "\n",
      "Optimal solution found: cost - £2,149,881,615.00\n",
      "Execution time: 2.50221 seconds\n"
     ]
    },
    {
     "data": {
      "image/png": "[encoded data removed]",
      "text/plain": [
       "<Figure size 1200x400 with 2 Axes>"
      ]
     },
     "metadata": {},
     "output_type": "display_data"
    }
   ],
   "source": [
    "(price, demand, capacity, share, \n",
    " supplier_transfer_limit, min_units, \n",
    " trust) = generate_supplier_selector_variables(n_suppliers=5, \n",
    "                                               n_parts=25,\n",
    "                                               n_years=10,\n",
    "                                               print_data=False,\n",
    "                                               seed_value=2);\n",
    "\n",
    "base_scenario = SupplierSelectionModel(price, \n",
    "                                       demand, \n",
    "                                       capacity=capacity, \n",
    "                                       supplier_transfer_limit=supplier_transfer_limit, \n",
    "                                       share=share,\n",
    "                                       global_transfer_limit=1,\n",
    "                                       minimum_units=min_units,\n",
    "                                       trust=trust)\n",
    "\n",
    "base_scenario.minimise_cost()\n",
    "base_scenario.plot_heatmap(name=\"Base scenario\")"
   ]
  },
  {
   "cell_type": "markdown",
   "id": "30c980c1",
   "metadata": {},
   "source": [
    "\n",
    "## Buying strategies and questions\n",
    "\n",
    "**Scenario A**: What would happen if Supplier 3 reduced all their prices by 10%? How much additional work would Supplier 3 win?\n",
    "\n",
    "**Scenario B**: What would happen if we trusted all suppliers? We can improve trust in a supplier by embedding Rolls-Royce employees in the supplier factory\n",
    "\n",
    "**Scenario C**: what would happen if there are no constraints?"
   ]
  },
  {
   "cell_type": "code",
   "execution_count": 10,
   "id": "29ca2d08",
   "metadata": {},
   "outputs": [
    {
     "name": "stdout",
     "output_type": "stream",
     "text": [
      "Execution time: 0.14435 seconds\n",
      "Execution time: 0.12158 seconds\n",
      "Execution time: 0.07421 seconds\n"
     ]
    }
   ],
   "source": [
    "reduced_price = compute_reduced_price(price, 2, 0.1)\n",
    "scenario_a = SupplierSelectionModel(reduced_price,\n",
    "                                    demand, \n",
    "                                    capacity=capacity, \n",
    "                                    supplier_transfer_limit=supplier_transfer_limit, \n",
    "                                    share=share,\n",
    "                                    global_transfer_limit=1,\n",
    "                                    minimum_units=min_units,\n",
    "                                    trust=trust)\n",
    "\n",
    "scenario_b = SupplierSelectionModel(price, \n",
    "                                    demand, \n",
    "                                    capacity=capacity, \n",
    "                                    supplier_transfer_limit=supplier_transfer_limit, \n",
    "                                    share=share,\n",
    "                                    global_transfer_limit=1,\n",
    "                                    minimum_units=min_units,\n",
    "                                    trust=None)\n",
    "\n",
    "scenario_c = SupplierSelectionModel(price, \n",
    "                                    demand, \n",
    "                                    capacity=None, \n",
    "                                    supplier_transfer_limit=None, \n",
    "                                    share=None,\n",
    "                                    global_transfer_limit=None,\n",
    "                                    minimum_units=None,\n",
    "                                    trust=None)"
   ]
  },
  {
   "cell_type": "markdown",
   "id": "8d71a48f",
   "metadata": {},
   "source": [
    "## Scenario A - Supplier 3 reduces all quoted prices by 10%\n",
    "\n",
    "Supplier 3 would realise a greater than 100% increase in work won if they reduce all quoted prices by 10%\n",
    "\n",
    "| Scenario | Supplier 3 work won | \n",
    "| -------- | ----------- |\n",
    "| Base | £492.67 million |\n",
    "| Scenario A | £995.04 million |\n",
    "\n",
    "The total cost is reduced from **£2,149,881,615** to **£2,043,923,624** - a saving of **£106 million**"
   ]
  },
  {
   "cell_type": "code",
   "execution_count": 11,
   "id": "e5c6fa3f",
   "metadata": {},
   "outputs": [
    {
     "name": "stdout",
     "output_type": "stream",
     "text": [
      "\n",
      "Optimal solution found: cost - £2,043,923,624.00\n",
      "Execution time: 2.21312 seconds\n"
     ]
    }
   ],
   "source": [
    "scenario_a.minimise_cost()"
   ]
  },
  {
   "cell_type": "code",
   "execution_count": 12,
   "id": "51449afc",
   "metadata": {},
   "outputs": [
    {
     "name": "stdout",
     "output_type": "stream",
     "text": [
      "\n",
      "Supplier  1: £      521.42 m\n",
      "\n",
      "Supplier  2: £      526.98 m\n",
      "\n",
      "Supplier  3: £      492.67 m\n",
      "\n",
      "Supplier  4: £      285.95 m\n",
      "\n",
      "Supplier  5: £      322.87 m\n"
     ]
    }
   ],
   "source": [
    "base_scenario.print_work_value()"
   ]
  },
  {
   "cell_type": "code",
   "execution_count": 13,
   "id": "193c91f7",
   "metadata": {},
   "outputs": [
    {
     "name": "stdout",
     "output_type": "stream",
     "text": [
      "\n",
      "Supplier  1: £      339.08 m\n",
      "\n",
      "Supplier  2: £      347.17 m\n",
      "\n",
      "Supplier  3: £      995.04 m\n",
      "\n",
      "Supplier  4: £      163.72 m\n",
      "\n",
      "Supplier  5: £      198.90 m\n"
     ]
    }
   ],
   "source": [
    "scenario_a.print_work_value()"
   ]
  },
  {
   "cell_type": "code",
   "execution_count": 14,
   "id": "0cb822ed",
   "metadata": {},
   "outputs": [
    {
     "data": {
      "image/png": "[encoded data removed]",
      "text/plain": [
       "<Figure size 1200x400 with 2 Axes>"
      ]
     },
     "metadata": {},
     "output_type": "display_data"
    }
   ],
   "source": [
    "scenario_a.heatmap_difference(base_scenario, name=\"Scenario A - Base Scenario\")"
   ]
  },
  {
   "cell_type": "markdown",
   "id": "7e8ad2e1",
   "metadata": {},
   "source": [
    "## Scenario B - all suppliers are trusted\n",
    "\n",
    "The total cost is reduced from **£2,149,881,615** to **£2,147,576,451** - a saving of **£2.3 million**\n",
    "\n",
    "This information is really valuable as we can now answer the following question objectively - is it cost effective to embed Rolls-Royce employees in the supplier factory to improve trust?"
   ]
  },
  {
   "cell_type": "code",
   "execution_count": 15,
   "id": "52ca421c",
   "metadata": {},
   "outputs": [
    {
     "name": "stdout",
     "output_type": "stream",
     "text": [
      "\n",
      "Optimal solution found: cost - £2,147,576,451.00\n",
      "Execution time: 2.53902 seconds\n"
     ]
    },
    {
     "data": {
      "image/png": "[encoded data removed]",
      "text/plain": [
       "<Figure size 1200x400 with 2 Axes>"
      ]
     },
     "metadata": {},
     "output_type": "display_data"
    }
   ],
   "source": [
    "scenario_b.minimise_cost()\n",
    "scenario_b.heatmap_difference(base_scenario, name=\"Scenario B - Base Scenario\")"
   ]
  },
  {
   "cell_type": "markdown",
   "id": "c6755b8b",
   "metadata": {},
   "source": [
    "## Scenario C - no constraints\n",
    "\n",
    "The total cost is reduced from **£2,149,881,615** to **£2,142,694,436** - a saving of **£7.2 million**"
   ]
  },
  {
   "cell_type": "code",
   "execution_count": 16,
   "id": "b2aea0eb",
   "metadata": {},
   "outputs": [
    {
     "name": "stdout",
     "output_type": "stream",
     "text": [
      "\n",
      "Optimal solution found: cost - £2,142,694,436.00\n",
      "Execution time: 0.03908 seconds\n"
     ]
    },
    {
     "data": {
      "image/png": "[encoded data removed]",
      "text/plain": [
       "<Figure size 1200x400 with 2 Axes>"
      ]
     },
     "metadata": {},
     "output_type": "display_data"
    }
   ],
   "source": [
    "scenario_c.minimise_cost()\n",
    "scenario_c.heatmap_difference(base_scenario, name=\"Scenario C - Base Scenario\")"
   ]
  },
  {
   "cell_type": "markdown",
   "id": "026845f6",
   "metadata": {},
   "source": [
    "---\n",
    "\n",
    "# Additional factors to consider\n",
    "\n",
    "In all the above examples, the objective is to minimise cost. However, many other factors must be considered when awarding manufacturing contracts. \n",
    "\n",
    "### Minimise \n",
    "\n",
    "- $\\textrm{CO}_2$ emissions\n",
    "- Transport distance\n",
    "\n",
    "### Maximise \n",
    "\n",
    "- Trust (an uncertain metric that represents confidence in a supplier)\n",
    "- Environmental, Social and Governance (ESG) metrics"
   ]
  },
  {
   "cell_type": "markdown",
   "id": "907e912d",
   "metadata": {},
   "source": [
    "---\n",
    "\n",
    "# Similar problems\n",
    "\n",
    "## Optimising product promotion budget allocation\n",
    "\n",
    "- A client (think Unilever) needs to optimise the allocation of their nearly multi billion dollar budget to promote over 5,000 brand and account combinations to reach target growth objectives for account-brand combinations\n",
    "- Automating the allocation of trade spend will reduce applied time and resources, allow scenarios to be planned and quickly tested to inform the optimal marketing mix, and provide a scalable foundation to optimise trade and marketing spend across retail channels, customers, and product lines\n",
    "\n"
   ]
  }
 ],
 "metadata": {
  "kernelspec": {
   "display_name": "Python 3 (ipykernel)",
   "language": "python",
   "name": "python3"
  },
  "language_info": {
   "codemirror_mode": {
    "name": "ipython",
    "version": 3
   },
   "file_extension": ".py",
   "mimetype": "text/x-python",
   "name": "python",
   "nbconvert_exporter": "python",
   "pygments_lexer": "ipython3",
   "version": "3.11.2"
  }
 },
 "nbformat": 4,
 "nbformat_minor": 5
}
